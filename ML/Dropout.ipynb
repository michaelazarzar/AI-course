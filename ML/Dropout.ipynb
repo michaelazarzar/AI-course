{
 "cells": [
  {
   "cell_type": "markdown",
   "metadata": {},
   "source": [
    "<h1> Dropout Excercise </h1>\n",
    "In the following exercise, you will have a chance to try out different dropout rates (p), and will be able to check which had the greatest effect on the model, in terms of performance."
   ]
  },
  {
   "cell_type": "code",
   "execution_count": 1,
   "metadata": {
    "scrolled": true
   },
   "outputs": [
    {
     "name": "stderr",
     "output_type": "stream",
     "text": [
      "2022-03-20 13:59:14.306067: W tensorflow/stream_executor/platform/default/dso_loader.cc:64] Could not load dynamic library 'libcudart.so.11.0'; dlerror: libcudart.so.11.0: cannot open shared object file: No such file or directory\n",
      "2022-03-20 13:59:14.306127: I tensorflow/stream_executor/cuda/cudart_stub.cc:29] Ignore above cudart dlerror if you do not have a GPU set up on your machine.\n"
     ]
    }
   ],
   "source": [
    "# Imports\n",
    "import tensorflow as tf\n",
    "from tensorflow import keras\n",
    "import matplotlib.pyplot as plt"
   ]
  },
  {
   "cell_type": "code",
   "execution_count": 2,
   "metadata": {},
   "outputs": [],
   "source": [
    "%matplotlib inline\n",
    "%config InlineBackend.figure_format = 'svg'\n",
    "\n",
    "def plot_metric(history, metric):\n",
    "    train_metrics = history.history[metric]\n",
    "    validation_metrics = history.history['validation_'+metric]\n",
    "    epochs = range(1, len(train_metrics) + 1)\n",
    "    plt.plot(epochs, train_metrics)\n",
    "    plt.plot(epochs, validation_metrics)\n",
    "    plt.title('Training and validation '+ metric)\n",
    "    plt.xlabel(\"Epochs\")\n",
    "    plt.ylabel(metric)\n",
    "    plt.legend([\"train_\"+metric, 'validation_'+metric])\n",
    "    plt.show()"
   ]
  },
  {
   "cell_type": "code",
   "execution_count": 3,
   "metadata": {},
   "outputs": [],
   "source": [
    "# Meet fashion MNIST - you will get familiar with this dataset soon...\n",
    "(train_images, train_labels),(test_images, test_labels) = keras.datasets.fashion_mnist.load_data()\n",
    "train_images = train_images /  255.0\n",
    "test_images = test_images / 255.0\n",
    "validation_images = train_images[:5000]\n",
    "validation_labels = train_labels[:5000]"
   ]
  },
  {
   "cell_type": "code",
   "execution_count": 4,
   "metadata": {},
   "outputs": [],
   "source": [
    "# Another cool way to define networks is using Classes\n",
    "# this makes the process pretty much automatic, and not dependent on some static values\n",
    "### TODO: See the dropout rate below (0.2). \n",
    "# 1.Make sure to inject it as a parameter, so when we instantiate a model,\n",
    "# we will be able to define its droput rate accordingly.\n",
    "# 2. write a for loop of 3 models (no need for more),\n",
    "# 2.1 each one of the models should be running on the same optimizers and compile as below\n",
    "# 2.2 each one of the models should be running on the same optimizers and compile as below\n",
    "# 3. Once the for loop ended, make sure to plot graphs of training performance + test performance.\n",
    "# For that, you can use one of the old ex. we had.\n",
    "# Dropout values can be randomly picked (ranging between 0 - 1)\n",
    "### In other words, what I'm asking is a Hyperparameter random search, so you can implement this with some\n",
    "# python library you know.\n",
    "class CustomModel(keras.Model):\n",
    "    def __init__(self, rate1,**kwargs):\n",
    "        super().__init__(**kwargs)\n",
    "        self.rate = rate1\n",
    "        self.input_layer = keras.layers.Flatten(input_shape=(28,28))\n",
    "        self.hidden1 = keras.layers.Dense(200, activation='relu')\n",
    "        self.hidden2 = keras.layers.Dense(100, activation='relu')\n",
    "        self.hidden3 = keras.layers.Dense(60, activation='relu')\n",
    "        self.output_layer = keras.layers.Dense(10, activation='softmax')\n",
    "        self.dropout_layer = keras.layers.Dropout(rate=self.rate)\n",
    "    \n",
    "    def call(self, input, training=None):\n",
    "        input_layer = self.input_layer(input)\n",
    "        input_layer = self.dropout_layer(input_layer)\n",
    "        hidden1 = self.hidden1(input_layer)\n",
    "        hidden1 = self.dropout_layer(hidden1, training=training)\n",
    "        hidden2 = self.hidden2(hidden1)\n",
    "        hidden2 = self.dropout_layer(hidden2, training=training)\n",
    "        hidden3 = self.hidden3(hidden2)\n",
    "        hidden3 = self.dropout_layer(hidden3, training=training)\n",
    "        output_layer = self.output_layer(hidden3)\n",
    "        return output_layer"
   ]
  },
  {
   "cell_type": "code",
   "execution_count": 5,
   "metadata": {},
   "outputs": [],
   "source": [
    "#model = CustomModel()\n",
    "#sgd = keras.optimizers.SGD(lr=0.01)\n",
    "#model.compile(loss=\"sparse_categorical_crossentropy\", optimizer=sgd, metrics=[\"accuracy\"])"
   ]
  },
  {
   "cell_type": "code",
   "execution_count": 6,
   "metadata": {},
   "outputs": [],
   "source": [
    "#model.fit(train_images, train_labels, epochs=60, validation_data=(validation_images, validation_labels))"
   ]
  },
  {
   "cell_type": "code",
   "execution_count": 7,
   "metadata": {},
   "outputs": [],
   "source": [
    "#model.evaluate(test_images, test_labels)"
   ]
  },
  {
   "cell_type": "code",
   "execution_count": 8,
   "metadata": {},
   "outputs": [],
   "source": [
    "def run_model(rate=0.2):\n",
    "    model = CustomModel(rate1=rate)\n",
    "    sgd = keras.optimizers.SGD(lr=0.01)\n",
    "    model.compile(loss=\"sparse_categorical_crossentropy\", optimizer=sgd, metrics=[\"accuracy\"])\n",
    "    history = model.fit(train_images, train_labels, epochs=60, validation_data=(validation_images, validation_labels))\n",
    "    print(f'rate = {rate} with{model.evaluate(test_images, test_labels)}')\n",
    "    return history"
   ]
  },
  {
   "cell_type": "code",
   "execution_count": 10,
   "metadata": {},
   "outputs": [
    {
     "name": "stdout",
     "output_type": "stream",
     "text": [
      "Epoch 1/60\n",
      "1875/1875 [==============================] - 7s 4ms/step - loss: 1.0544 - accuracy: 0.6102 - val_loss: 0.6071 - val_accuracy: 0.7758\n",
      "Epoch 2/60\n",
      "1875/1875 [==============================] - 6s 3ms/step - loss: 0.6857 - accuracy: 0.7522 - val_loss: 0.5042 - val_accuracy: 0.8194\n",
      "Epoch 3/60\n",
      "1875/1875 [==============================] - 6s 3ms/step - loss: 0.6078 - accuracy: 0.7822 - val_loss: 0.4548 - val_accuracy: 0.8390\n",
      "Epoch 4/60\n",
      "1875/1875 [==============================] - 7s 3ms/step - loss: 0.5636 - accuracy: 0.7988 - val_loss: 0.4200 - val_accuracy: 0.8516\n",
      "Epoch 5/60\n",
      "1875/1875 [==============================] - 7s 3ms/step - loss: 0.5318 - accuracy: 0.8108 - val_loss: 0.4082 - val_accuracy: 0.8556\n",
      "Epoch 6/60\n",
      "1875/1875 [==============================] - 7s 4ms/step - loss: 0.5087 - accuracy: 0.8183 - val_loss: 0.3846 - val_accuracy: 0.8592\n",
      "Epoch 7/60\n",
      "1875/1875 [==============================] - 6s 3ms/step - loss: 0.4944 - accuracy: 0.8220 - val_loss: 0.3756 - val_accuracy: 0.8648\n",
      "Epoch 8/60\n",
      "1875/1875 [==============================] - 6s 3ms/step - loss: 0.4826 - accuracy: 0.8265 - val_loss: 0.3626 - val_accuracy: 0.8702\n",
      "Epoch 9/60\n",
      "1875/1875 [==============================] - 6s 3ms/step - loss: 0.4718 - accuracy: 0.8298 - val_loss: 0.3541 - val_accuracy: 0.8734\n",
      "Epoch 10/60\n",
      "1875/1875 [==============================] - 6s 3ms/step - loss: 0.4584 - accuracy: 0.8350 - val_loss: 0.3488 - val_accuracy: 0.8766\n",
      "Epoch 11/60\n",
      "1875/1875 [==============================] - 7s 4ms/step - loss: 0.4530 - accuracy: 0.8359 - val_loss: 0.3381 - val_accuracy: 0.8778\n",
      "Epoch 12/60\n",
      "1875/1875 [==============================] - 6s 3ms/step - loss: 0.4432 - accuracy: 0.8394 - val_loss: 0.3378 - val_accuracy: 0.8728\n",
      "Epoch 13/60\n",
      "1875/1875 [==============================] - 6s 3ms/step - loss: 0.4374 - accuracy: 0.8415 - val_loss: 0.3289 - val_accuracy: 0.8826\n",
      "Epoch 14/60\n",
      "1875/1875 [==============================] - 7s 4ms/step - loss: 0.4309 - accuracy: 0.8438 - val_loss: 0.3258 - val_accuracy: 0.8794\n",
      "Epoch 15/60\n",
      "1875/1875 [==============================] - 6s 3ms/step - loss: 0.4253 - accuracy: 0.8466 - val_loss: 0.3186 - val_accuracy: 0.8858\n",
      "Epoch 16/60\n",
      "1875/1875 [==============================] - 7s 4ms/step - loss: 0.4194 - accuracy: 0.8468 - val_loss: 0.3183 - val_accuracy: 0.8870\n",
      "Epoch 17/60\n",
      "1875/1875 [==============================] - 6s 3ms/step - loss: 0.4140 - accuracy: 0.8482 - val_loss: 0.3161 - val_accuracy: 0.8874\n",
      "Epoch 18/60\n",
      "1875/1875 [==============================] - 6s 3ms/step - loss: 0.4092 - accuracy: 0.8522 - val_loss: 0.3096 - val_accuracy: 0.8856\n",
      "Epoch 19/60\n",
      "1875/1875 [==============================] - 6s 3ms/step - loss: 0.4067 - accuracy: 0.8536 - val_loss: 0.3066 - val_accuracy: 0.8878\n",
      "Epoch 20/60\n",
      "1875/1875 [==============================] - 6s 3ms/step - loss: 0.4017 - accuracy: 0.8544 - val_loss: 0.3085 - val_accuracy: 0.8846\n",
      "Epoch 21/60\n",
      "1875/1875 [==============================] - 7s 4ms/step - loss: 0.4014 - accuracy: 0.8535 - val_loss: 0.3019 - val_accuracy: 0.8892\n",
      "Epoch 22/60\n",
      "1875/1875 [==============================] - 7s 4ms/step - loss: 0.3941 - accuracy: 0.8556 - val_loss: 0.2968 - val_accuracy: 0.8934\n",
      "Epoch 23/60\n",
      "1875/1875 [==============================] - 7s 4ms/step - loss: 0.3924 - accuracy: 0.8563 - val_loss: 0.3027 - val_accuracy: 0.8900\n",
      "Epoch 24/60\n",
      "1875/1875 [==============================] - 7s 3ms/step - loss: 0.3883 - accuracy: 0.8587 - val_loss: 0.2964 - val_accuracy: 0.8932\n",
      "Epoch 25/60\n",
      "1875/1875 [==============================] - 7s 4ms/step - loss: 0.3829 - accuracy: 0.8604 - val_loss: 0.2893 - val_accuracy: 0.8932\n",
      "Epoch 26/60\n",
      "1875/1875 [==============================] - 6s 3ms/step - loss: 0.3807 - accuracy: 0.8627 - val_loss: 0.2883 - val_accuracy: 0.8936\n",
      "Epoch 27/60\n",
      "1875/1875 [==============================] - 6s 3ms/step - loss: 0.3786 - accuracy: 0.8627 - val_loss: 0.2847 - val_accuracy: 0.8966\n",
      "Epoch 28/60\n",
      "1875/1875 [==============================] - 6s 3ms/step - loss: 0.3769 - accuracy: 0.8619 - val_loss: 0.2876 - val_accuracy: 0.8970\n",
      "Epoch 29/60\n",
      "1875/1875 [==============================] - 7s 4ms/step - loss: 0.3738 - accuracy: 0.8639 - val_loss: 0.2803 - val_accuracy: 0.8956\n",
      "Epoch 30/60\n",
      "1875/1875 [==============================] - 7s 4ms/step - loss: 0.3717 - accuracy: 0.8639 - val_loss: 0.2784 - val_accuracy: 0.8968\n",
      "Epoch 31/60\n",
      "1875/1875 [==============================] - 6s 3ms/step - loss: 0.3686 - accuracy: 0.8654 - val_loss: 0.2793 - val_accuracy: 0.8994\n",
      "Epoch 32/60\n",
      "1875/1875 [==============================] - 6s 3ms/step - loss: 0.3664 - accuracy: 0.8649 - val_loss: 0.2759 - val_accuracy: 0.9000\n",
      "Epoch 33/60\n",
      "1875/1875 [==============================] - 6s 3ms/step - loss: 0.3654 - accuracy: 0.8660 - val_loss: 0.2728 - val_accuracy: 0.9020\n",
      "Epoch 34/60\n",
      "1875/1875 [==============================] - 7s 4ms/step - loss: 0.3628 - accuracy: 0.8667 - val_loss: 0.2756 - val_accuracy: 0.9004\n",
      "Epoch 35/60\n",
      "1875/1875 [==============================] - 6s 3ms/step - loss: 0.3598 - accuracy: 0.8680 - val_loss: 0.2689 - val_accuracy: 0.9028\n",
      "Epoch 36/60\n",
      "1875/1875 [==============================] - 6s 3ms/step - loss: 0.3582 - accuracy: 0.8691 - val_loss: 0.2674 - val_accuracy: 0.9026\n",
      "Epoch 37/60\n",
      "1875/1875 [==============================] - 6s 3ms/step - loss: 0.3572 - accuracy: 0.8692 - val_loss: 0.2647 - val_accuracy: 0.9052\n",
      "Epoch 38/60\n",
      "1875/1875 [==============================] - 6s 3ms/step - loss: 0.3577 - accuracy: 0.8684 - val_loss: 0.2686 - val_accuracy: 0.9024\n",
      "Epoch 39/60\n",
      "1875/1875 [==============================] - 6s 3ms/step - loss: 0.3526 - accuracy: 0.8702 - val_loss: 0.2629 - val_accuracy: 0.9034\n",
      "Epoch 40/60\n",
      "1875/1875 [==============================] - 6s 3ms/step - loss: 0.3505 - accuracy: 0.8718 - val_loss: 0.2595 - val_accuracy: 0.9058\n",
      "Epoch 41/60\n",
      "1875/1875 [==============================] - 6s 3ms/step - loss: 0.3504 - accuracy: 0.8711 - val_loss: 0.2605 - val_accuracy: 0.9056\n",
      "Epoch 42/60\n",
      "1875/1875 [==============================] - 6s 3ms/step - loss: 0.3477 - accuracy: 0.8720 - val_loss: 0.2542 - val_accuracy: 0.9086\n",
      "Epoch 43/60\n",
      "1875/1875 [==============================] - 7s 4ms/step - loss: 0.3445 - accuracy: 0.8730 - val_loss: 0.2560 - val_accuracy: 0.9042\n",
      "Epoch 44/60\n",
      "1875/1875 [==============================] - 7s 4ms/step - loss: 0.3451 - accuracy: 0.8728 - val_loss: 0.2566 - val_accuracy: 0.9064\n",
      "Epoch 45/60\n",
      "1875/1875 [==============================] - 7s 4ms/step - loss: 0.3418 - accuracy: 0.8742 - val_loss: 0.2544 - val_accuracy: 0.9070\n",
      "Epoch 46/60\n",
      "1875/1875 [==============================] - 6s 3ms/step - loss: 0.3404 - accuracy: 0.8746 - val_loss: 0.2550 - val_accuracy: 0.9042\n",
      "Epoch 47/60\n",
      "1875/1875 [==============================] - 7s 3ms/step - loss: 0.3382 - accuracy: 0.8759 - val_loss: 0.2510 - val_accuracy: 0.9100\n",
      "Epoch 48/60\n",
      "1875/1875 [==============================] - 7s 4ms/step - loss: 0.3383 - accuracy: 0.8758 - val_loss: 0.2521 - val_accuracy: 0.9094\n",
      "Epoch 49/60\n",
      "1875/1875 [==============================] - 6s 3ms/step - loss: 0.3383 - accuracy: 0.8755 - val_loss: 0.2483 - val_accuracy: 0.9060\n",
      "Epoch 50/60\n",
      "1875/1875 [==============================] - 6s 3ms/step - loss: 0.3346 - accuracy: 0.8774 - val_loss: 0.2500 - val_accuracy: 0.9076\n",
      "Epoch 51/60\n",
      "1875/1875 [==============================] - 6s 3ms/step - loss: 0.3346 - accuracy: 0.8763 - val_loss: 0.2472 - val_accuracy: 0.9120\n",
      "Epoch 52/60\n",
      "1875/1875 [==============================] - 7s 3ms/step - loss: 0.3336 - accuracy: 0.8768 - val_loss: 0.2455 - val_accuracy: 0.9070\n",
      "Epoch 53/60\n",
      "1875/1875 [==============================] - 7s 3ms/step - loss: 0.3328 - accuracy: 0.8786 - val_loss: 0.2465 - val_accuracy: 0.9100\n",
      "Epoch 54/60\n",
      "1875/1875 [==============================] - 7s 4ms/step - loss: 0.3292 - accuracy: 0.8786 - val_loss: 0.2434 - val_accuracy: 0.9076\n",
      "Epoch 55/60\n",
      "1875/1875 [==============================] - 6s 3ms/step - loss: 0.3294 - accuracy: 0.8797 - val_loss: 0.2385 - val_accuracy: 0.9130\n",
      "Epoch 56/60\n",
      "1875/1875 [==============================] - 6s 3ms/step - loss: 0.3276 - accuracy: 0.8800 - val_loss: 0.2404 - val_accuracy: 0.9114\n",
      "Epoch 57/60\n"
     ]
    },
    {
     "name": "stdout",
     "output_type": "stream",
     "text": [
      "1875/1875 [==============================] - 7s 4ms/step - loss: 0.3276 - accuracy: 0.8785 - val_loss: 0.2387 - val_accuracy: 0.9072\n",
      "Epoch 58/60\n",
      "1875/1875 [==============================] - 6s 3ms/step - loss: 0.3258 - accuracy: 0.8804 - val_loss: 0.2382 - val_accuracy: 0.9116\n",
      "Epoch 59/60\n",
      "1875/1875 [==============================] - 6s 3ms/step - loss: 0.3236 - accuracy: 0.8797 - val_loss: 0.2395 - val_accuracy: 0.9104\n",
      "Epoch 60/60\n",
      "1875/1875 [==============================] - 7s 4ms/step - loss: 0.3241 - accuracy: 0.8809 - val_loss: 0.2327 - val_accuracy: 0.9128\n",
      "313/313 [==============================] - 1s 2ms/step - loss: 0.3160 - accuracy: 0.8851\n",
      "rate = 0.2 with[0.315956711769104, 0.8851000070571899]\n"
     ]
    },
    {
     "ename": "KeyError",
     "evalue": "'validation_accuracy'",
     "output_type": "error",
     "traceback": [
      "\u001b[0;31m---------------------------------------------------------------------------\u001b[0m",
      "\u001b[0;31mKeyError\u001b[0m                                  Traceback (most recent call last)",
      "Input \u001b[0;32mIn [10]\u001b[0m, in \u001b[0;36m<module>\u001b[0;34m\u001b[0m\n\u001b[1;32m      2\u001b[0m \u001b[38;5;28;01mfor\u001b[39;00m rate \u001b[38;5;129;01min\u001b[39;00m rates:\n\u001b[1;32m      3\u001b[0m     history\u001b[38;5;241m=\u001b[39m run_model(rate)\n\u001b[0;32m----> 4\u001b[0m     \u001b[43mplot_metric\u001b[49m\u001b[43m(\u001b[49m\u001b[43mhistory\u001b[49m\u001b[43m,\u001b[49m\u001b[43m \u001b[49m\u001b[38;5;124;43m'\u001b[39;49m\u001b[38;5;124;43maccuracy\u001b[39;49m\u001b[38;5;124;43m'\u001b[39;49m\u001b[43m)\u001b[49m\n",
      "Input \u001b[0;32mIn [2]\u001b[0m, in \u001b[0;36mplot_metric\u001b[0;34m(history, metric)\u001b[0m\n\u001b[1;32m      4\u001b[0m \u001b[38;5;28;01mdef\u001b[39;00m \u001b[38;5;21mplot_metric\u001b[39m(history, metric):\n\u001b[1;32m      5\u001b[0m     train_metrics \u001b[38;5;241m=\u001b[39m history\u001b[38;5;241m.\u001b[39mhistory[metric]\n\u001b[0;32m----> 6\u001b[0m     validation_metrics \u001b[38;5;241m=\u001b[39m \u001b[43mhistory\u001b[49m\u001b[38;5;241;43m.\u001b[39;49m\u001b[43mhistory\u001b[49m\u001b[43m[\u001b[49m\u001b[38;5;124;43m'\u001b[39;49m\u001b[38;5;124;43mvalidation_\u001b[39;49m\u001b[38;5;124;43m'\u001b[39;49m\u001b[38;5;241;43m+\u001b[39;49m\u001b[43mmetric\u001b[49m\u001b[43m]\u001b[49m\n\u001b[1;32m      7\u001b[0m     epochs \u001b[38;5;241m=\u001b[39m \u001b[38;5;28mrange\u001b[39m(\u001b[38;5;241m1\u001b[39m, \u001b[38;5;28mlen\u001b[39m(train_metrics) \u001b[38;5;241m+\u001b[39m \u001b[38;5;241m1\u001b[39m)\n\u001b[1;32m      8\u001b[0m     plt\u001b[38;5;241m.\u001b[39mplot(epochs, train_metrics)\n",
      "\u001b[0;31mKeyError\u001b[0m: 'validation_accuracy'"
     ]
    }
   ],
   "source": [
    "rates = [0.2,0.3,0.5]\n",
    "for rate in rates:\n",
    "    history= run_model(rate)\n",
    "    plot_metric(history, 'accuracy')"
   ]
  },
  {
   "cell_type": "code",
   "execution_count": null,
   "metadata": {},
   "outputs": [],
   "source": []
  }
 ],
 "metadata": {
  "kernelspec": {
   "display_name": "Python 3 (ipykernel)",
   "language": "python",
   "name": "python3"
  },
  "language_info": {
   "codemirror_mode": {
    "name": "ipython",
    "version": 3
   },
   "file_extension": ".py",
   "mimetype": "text/x-python",
   "name": "python",
   "nbconvert_exporter": "python",
   "pygments_lexer": "ipython3",
   "version": "3.9.7"
  }
 },
 "nbformat": 4,
 "nbformat_minor": 4
}
