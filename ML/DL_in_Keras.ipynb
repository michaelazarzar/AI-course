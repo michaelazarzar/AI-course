{
 "cells": [
  {
   "cell_type": "markdown",
   "id": "3af1996c",
   "metadata": {},
   "source": [
    "<h1> Intro to Deep Learning - Keras </h1>\n",
    "<br>\n",
    "Keras is a powerful and easy-to-use free open source Python library for developing and evaluating deep learning models."
   ]
  },
  {
   "cell_type": "markdown",
   "id": "79df6b09",
   "metadata": {},
   "source": [
    "<h2> First Neural Network with Keras </h2>\n",
    "Eventually, this course does not focus in it, however one of the biggest challenges is within the Data.\n",
    "Here you will get a \"ready-to-go\" dataset, which will be used for NN training (with Keras).\n",
    "The main goal of the excersice is to get you familiar with the Keras API, so you will see how easy is to:\n",
    "<li>develop a DL model</li>\n",
    "<li>train it on some data</li>\n",
    "<li>evaluate the model's performance on some unseen data (aka test)</li>"
   ]
  },
  {
   "cell_type": "markdown",
   "id": "185894ff",
   "metadata": {},
   "source": [
    "<h2> Data preprocessing </h2>\n",
    "<br>\n",
    "PIMA-Indians-Diabetes: The diagnostic, binary-valued variable investigated is whether the patient shows signs of diabetes according to World Health Organization criteria. \n",
    "<br>\n",
    "The population lives near Phoenix, Arizona, USA.\n",
    "<br>\n",
    "Each data point holds the below attributes (all numeric-valued):\n",
    "<ul>\n",
    "    <li>Number of times pregnant</li>\n",
    "    <li>Plasma glucose concentration a 2 hours in an oral glucose tolerance test</li>\n",
    "    <li>Diastolic blood pressure (mm Hg)</li>\n",
    "    <li>Triceps skin fold thickness (mm)</li>\n",
    "    <li>2-Hour serum insulin (mu U/ml)</li>\n",
    "    <li>Body mass index (weight in kg/(height in m)^2)</li>\n",
    "    <li>Diabetes pedigree function</li>\n",
    "    <li>Age (years)</li>\n",
    "    <li>Class variable (0 or 1)</li>"
   ]
  },
  {
   "cell_type": "code",
   "execution_count": 1,
   "id": "0f81c9cc",
   "metadata": {},
   "outputs": [
    {
     "name": "stderr",
     "output_type": "stream",
     "text": [
      "2022-03-06 18:07:43.116942: W tensorflow/stream_executor/platform/default/dso_loader.cc:64] Could not load dynamic library 'libcudart.so.11.0'; dlerror: libcudart.so.11.0: cannot open shared object file: No such file or directory\n",
      "2022-03-06 18:07:43.117007: I tensorflow/stream_executor/cuda/cudart_stub.cc:29] Ignore above cudart dlerror if you do not have a GPU set up on your machine.\n"
     ]
    }
   ],
   "source": [
    "# Let's import relevant libraries\n",
    "import numpy as np\n",
    "from numpy import loadtxt\n",
    "from keras.models import Sequential\n",
    "from keras.layers import Dense\n",
    "from sklearn.metrics import classification_report\n",
    "# load the dataset - TODO: add a different dataset?\n",
    "dataset = loadtxt('../Deep_Learning/pima-indians-diabetes.csv', delimiter=',')\n",
    "# Data should be in numpy ndarray format\n",
    "# split into input (X) and output (y) variables\n",
    "# X - used as our vector of inputs, this is there the magic of the data comes in\n",
    "# y - used as our label. In this case, classification.\n",
    "# The goal of the task is to find an X->y mapping which we will be satisfied with (in terms of performance)\n",
    "X = dataset[:,:-1]\n",
    "y = dataset[:,-1]"
   ]
  },
  {
   "cell_type": "markdown",
   "id": "500e6ad8",
   "metadata": {},
   "source": [
    "<h2> DL Model using Keras </h2>\n",
    "<br>\n",
    "Here, we are using the Keras API.\n",
    "<br>\n",
    "TODO:\n",
    "<ul>\n",
    "    <li>1. You should define this architecture: Input: 8 -> Hidden: 12 -> Hidden: 8 -> Relu -> 1 -> Sigmoid </li>\n",
    "    <li> 2. The model should have a binary cross entropy loss, and its optimizer should be *adam*. </li>\n",
    "    <li> 3. The model should optimize towards <b>accuracy</b> </li>\n",
    "</ul>"
   ]
  },
  {
   "cell_type": "code",
   "execution_count": 25,
   "id": "24c3ca47",
   "metadata": {},
   "outputs": [],
   "source": [
    "# define the keras model\n",
    "model = Sequential()\n",
    "model.add(Dense(12, input_dim=8, activation='relu'))\n",
    "model.add(Dense(8, activation='relu'))\n",
    "model.add(Dense(1, activation='sigmoid'))\n",
    "# compile the keras model\n",
    "model.compile(loss='binary_crossentropy', optimizer='adam', metrics=['accuracy'])"
   ]
  },
  {
   "cell_type": "code",
   "execution_count": 26,
   "id": "0c821a8c",
   "metadata": {},
   "outputs": [
    {
     "name": "stdout",
     "output_type": "stream",
     "text": [
      "Model: \"sequential_2\"\n",
      "_________________________________________________________________\n",
      " Layer (type)                Output Shape              Param #   \n",
      "=================================================================\n",
      " dense_6 (Dense)             (None, 12)                108       \n",
      "                                                                 \n",
      " dense_7 (Dense)             (None, 8)                 104       \n",
      "                                                                 \n",
      " dense_8 (Dense)             (None, 1)                 9         \n",
      "                                                                 \n",
      "=================================================================\n",
      "Total params: 221\n",
      "Trainable params: 221\n",
      "Non-trainable params: 0\n",
      "_________________________________________________________________\n"
     ]
    }
   ],
   "source": [
    "# TODO: Find the function that prints the model architecture into the console\n",
    "model.summary()"
   ]
  },
  {
   "cell_type": "code",
   "execution_count": 27,
   "id": "4a4f66d6",
   "metadata": {},
   "outputs": [
    {
     "name": "stdout",
     "output_type": "stream",
     "text": [
      "Epoch 1/10\n",
      "77/77 [==============================] - 1s 2ms/step - loss: 16.0509 - accuracy: 0.6432\n",
      "Epoch 2/10\n",
      "77/77 [==============================] - 0s 2ms/step - loss: 2.6173 - accuracy: 0.5768\n",
      "Epoch 3/10\n",
      "77/77 [==============================] - 0s 2ms/step - loss: 1.5286 - accuracy: 0.5859\n",
      "Epoch 4/10\n",
      "77/77 [==============================] - 0s 2ms/step - loss: 1.1593 - accuracy: 0.6302\n",
      "Epoch 5/10\n",
      "77/77 [==============================] - 0s 2ms/step - loss: 1.1053 - accuracy: 0.6120\n",
      "Epoch 6/10\n",
      "77/77 [==============================] - 0s 2ms/step - loss: 1.1654 - accuracy: 0.6302\n",
      "Epoch 7/10\n",
      "77/77 [==============================] - 0s 2ms/step - loss: 1.0335 - accuracy: 0.6094\n",
      "Epoch 8/10\n",
      "77/77 [==============================] - 0s 2ms/step - loss: 0.9429 - accuracy: 0.6354\n",
      "Epoch 9/10\n",
      "77/77 [==============================] - 0s 1ms/step - loss: 0.9181 - accuracy: 0.6510\n",
      "Epoch 10/10\n",
      "77/77 [==============================] - 0s 1ms/step - loss: 0.8975 - accuracy: 0.6315\n",
      "<class 'numpy.ndarray'>\n",
      "[6.0, 148.0, 72.0, 35.0, 0.0, 33.6, 0.627, 50.0] => 0 (expected 1)\n",
      "[1.0, 85.0, 66.0, 29.0, 0.0, 26.6, 0.351, 31.0] => 0 (expected 0)\n",
      "[8.0, 183.0, 64.0, 0.0, 0.0, 23.3, 0.672, 32.0] => 0 (expected 1)\n",
      "[1.0, 89.0, 66.0, 23.0, 94.0, 28.1, 0.167, 21.0] => 0 (expected 0)\n",
      "[0.0, 137.0, 40.0, 35.0, 168.0, 43.1, 2.288, 33.0] => 1 (expected 1)\n"
     ]
    }
   ],
   "source": [
    "# fit the keras model on the dataset\n",
    "model.fit(X, y, epochs=10, batch_size=10, verbose=1)\n",
    "# make class predictions with the model\n",
    "predictions = model.predict_on_batch(X) #Note: This is a fix since Keras API had changed from predict_proba to this\n",
    "print(type(predictions))\n",
    "# Convert probabilities to classes\n",
    "threhsold = 0.5\n",
    "predictions = np.where(predictions > threshold, 1, 0)\n",
    "# classes_x=np.argmax(predictions,axis=1)\n",
    "# summarize the first 5 cases\n",
    "for i in range(5):\n",
    "    print('%s => %d (expected %d)' % (X[i].tolist(), predictions[i], y[i]))"
   ]
  },
  {
   "cell_type": "code",
   "execution_count": 28,
   "id": "6e028f87",
   "metadata": {},
   "outputs": [
    {
     "name": "stdout",
     "output_type": "stream",
     "text": [
      "              precision    recall  f1-score   support\n",
      "\n",
      "           0       0.68      0.89      0.77       500\n",
      "           1       0.50      0.20      0.29       268\n",
      "\n",
      "    accuracy                           0.65       768\n",
      "   macro avg       0.59      0.55      0.53       768\n",
      "weighted avg       0.61      0.65      0.60       768\n",
      "\n"
     ]
    }
   ],
   "source": [
    "# https://scikit-learn.org/stable/modules/generated/sklearn.metrics.classification_report.html\n",
    "print(classification_report(y, predictions, target_names=['0', '1']))"
   ]
  }
 ],
 "metadata": {
  "kernelspec": {
   "display_name": "Python 3 (ipykernel)",
   "language": "python",
   "name": "python3"
  },
  "language_info": {
   "codemirror_mode": {
    "name": "ipython",
    "version": 3
   },
   "file_extension": ".py",
   "mimetype": "text/x-python",
   "name": "python",
   "nbconvert_exporter": "python",
   "pygments_lexer": "ipython3",
   "version": "3.9.7"
  }
 },
 "nbformat": 4,
 "nbformat_minor": 5
}
