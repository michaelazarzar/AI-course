{
 "cells": [
  {
   "cell_type": "markdown",
   "id": "7a95a3ea",
   "metadata": {},
   "source": [
    "<h2> Your first Neural Network! </h2>\n",
    "In this task, you are going to build a neural network which can then be used to predict on several data-oriented tasks.\n",
    "<br>\n",
    "<br>\n",
    "The goal of this task is to get you familiarize with Python Classes, NumPy (way more than the previous task), and some other aspects of NN - ForwardProp, BackwardProp, etc.\n",
    "\n",
    "<h4> Technologies we'll use </h4>\n",
    "NumPy - data manipulation\n",
    "Pure Python - Classes, objects, instantiations, methods"
   ]
  },
  {
   "cell_type": "markdown",
   "id": "906f0ad1",
   "metadata": {},
   "source": [
    "<h5>Flow:</h5>\n",
    "    1. We'll define a class called `NeuralNetwork` which will contain several methods:\n",
    "    <br>\n",
    "    A. init: (Contstructor)\n",
    "        <ul>\n",
    "            <li> self - object </li>\n",
    "            <li> learning rate - aka \"eta\" </li>\n",
    "        </ul>\n",
    "    <br>\n",
    "    B. sigmoid: activation function\n",
    "    <br>\n",
    "    C. sigmoid derivitative: sigmoid's function deriviative. Can easily be found online :)\n",
    "    <br>\n",
    "    D. compute gradients - this method will compute gradients based on the below flow:\n",
    "    <br>\n",
    "    `Z = W*X + B\n",
    "    Z2 = sigmoid(Z)\n",
    "    prediction = Z2`\n",
    "    <br>\n",
    "    E. update parameters - this method will update parameters based on Gradient Descent\n",
    "    <br>\n",
    "    F. train - this method will train the model based on data (X, Y) and number of iterations\n",
    "    <br>\n",
    "    G. predict - this method will run a forward pass on the model in order to generate a prediction\n",
    "    \n",
    "  <h5>Instructions</h5> \n",
    "  <ul>\n",
    "            <li> Implement `sigmoid` method </li>\n",
    "            <li> Implement `sigmoid_deriv` method </li>\n",
    "            <li> Implement `_update_parameters` method </li>\n",
    "            <li> Implement `predict` method </li>\n",
    "        </ul>\n",
    "        \n",
    "  Good luck!"
   ]
  },
  {
   "cell_type": "code",
   "execution_count": 1,
   "id": "655782e4",
   "metadata": {},
   "outputs": [],
   "source": [
    "import numpy as np\n",
    "import matplotlib.pyplot as plt"
   ]
  },
  {
   "cell_type": "code",
   "execution_count": 2,
   "id": "2fe46208",
   "metadata": {},
   "outputs": [],
   "source": [
    "class NeuralNetwork:\n",
    "    \"\"\"This class will represent a neural network, solely based on NumPy\"\"\"\n",
    "    def __init__(self, learning_rate):\n",
    "        self.weights = np.array([np.random.randn(), np.random.randn()]) # init weights\n",
    "        self.bias = np.random.randn() # init bias\n",
    "        self.learning_rate = learning_rate # init learning rate\n",
    "\n",
    "    def _sigmoid(self, x): # sigmoid function\n",
    "        ### TODO: Implement this\n",
    "        return 1/(1+np.exp(-x))\n",
    "        #return None\n",
    "\n",
    "    def _sigmoid_deriv(self, x): # sigmoid deriviative\n",
    "        ### TODO: Implement this\n",
    "        return self._sigmoid(x) * (1.0 - self._sigmoid(x))\n",
    "        #return None\n",
    "\n",
    "    def _compute_gradients(self, input_vector, target):\n",
    "        # Forward pass: from X to prediction with sigmoid\n",
    "        layer_1 = np.dot(input_vector, self.weights) + self.bias\n",
    "        layer_2 = self._sigmoid(layer_1)\n",
    "        prediction = layer_2\n",
    "    \n",
    "        # Backward pass - from prediction backward\n",
    "        derror_dprediction = 2 * (prediction - target)\n",
    "        dprediction_dlayer1 = self._sigmoid_deriv(layer_1)\n",
    "        dlayer1_dbias = 1\n",
    "        dlayer1_dweights = (0 * self.bias) + (1 * input_vector)\n",
    "\n",
    "        derror_dbias = (derror_dprediction * dprediction_dlayer1 * dlayer1_dbias)\n",
    "        derror_dweights = (derror_dprediction * dprediction_dlayer1 * dlayer1_dweights)\n",
    "\n",
    "        return derror_dbias, derror_dweights\n",
    "\n",
    "    def _update_parameters(self, derror_dbias, derror_dweights):\n",
    "        self.weights = self.weights - self.learning_rate * derror_dweights#* input\n",
    "        self.bias = self.bias - self.learning_rate * derror_dbias\n",
    "        return None\n",
    "        \n",
    "    def train(self, input_vectors, targets, iterations):\n",
    "        print(\"Self.weights are:\", self.weights)\n",
    "        print(\"Self bias are:\", self.bias)\n",
    "        cumulative_errors = []\n",
    "        for current_iteration in range(iterations):\n",
    "            # Pick a data instance at random\n",
    "            random_data_index = np.random.randint(len(input_vectors))\n",
    "\n",
    "            input_vector = input_vectors[random_data_index]\n",
    "            target = targets[random_data_index]\n",
    "\n",
    "            # Compute the gradients and update the weights\n",
    "            derror_dbias, derror_dweights = self._compute_gradients(input_vector, target)\n",
    "            self._update_parameters(derror_dbias, derror_dweights)\n",
    "\n",
    "            # Measure the cumulative error for all the instances\n",
    "            if current_iteration % 100 == 0:\n",
    "                cumulative_error = 0\n",
    "                # Loop through all the instances to measure the error\n",
    "                for data_instance_index in range(len(input_vectors)):\n",
    "                    data_point = input_vectors[data_instance_index]\n",
    "                    target = targets[data_instance_index]\n",
    "\n",
    "                    prediction = self.predict(data_point)\n",
    "                    error = np.square(prediction - target)\n",
    "\n",
    "                    cumulative_error = cumulative_error + error\n",
    "                cumulative_errors.append(cumulative_error)\n",
    "\n",
    "        return cumulative_errors\n",
    "    \n",
    "    def predict(self, input_vector):\n",
    "        layer_1 = np.dot(input_vector, self.weights) + self.bias\n",
    "        layer_2 = self._sigmoid(layer_1)\n",
    "        return layer_2\n",
    "        #return None"
   ]
  },
  {
   "cell_type": "code",
   "execution_count": 3,
   "id": "e5e0f491",
   "metadata": {},
   "outputs": [
    {
     "name": "stdout",
     "output_type": "stream",
     "text": [
      "Self.weights are: [-0.09659692  0.16764166]\n",
      "Self bias are: -1.3282541505695753\n"
     ]
    }
   ],
   "source": [
    "### Don't touch!\n",
    "# X is composed of 2 columns, not representing something, just random assigned values\n",
    "input_vectors = np.array([[3, 1.5], \n",
    "                          [2, 1], \n",
    "                          [4, 1.5], \n",
    "                          [3, 4], \n",
    "                          [3.5, 0.5], \n",
    "                          [2, 0.5], \n",
    "                          [5.5, 1], \n",
    "                          [1, 1]])\n",
    "\n",
    "# y is composed of 1 column, 0 / 1 accordingly\n",
    "targets = np.array([0, 1, 0, 1, 0, 1, 1, 0]) # binary classification problem\n",
    "\n",
    "learning_rate = 0.1 # aka \"eta\"\n",
    "\n",
    "# Class instantiation\n",
    "neural_network = NeuralNetwork(learning_rate) \n",
    "\n",
    "# Error\n",
    "training_error = neural_network.train(input_vectors, targets, 10000) # 10000 iterations"
   ]
  },
  {
   "cell_type": "markdown",
   "id": "87c19bcb",
   "metadata": {},
   "source": [
    "<h4> Let's plot our error during the training </h4>"
   ]
  },
  {
   "cell_type": "code",
   "execution_count": 4,
   "id": "5520ae9a",
   "metadata": {},
   "outputs": [
    {
     "data": {
      "image/png": "[encoded data removed]",
      "text/plain": [
       "<Figure size 432x288 with 1 Axes>"
      ]
     },
     "metadata": {
      "needs_background": "light"
     },
     "output_type": "display_data"
    }
   ],
   "source": [
    "plt.plot(training_error)\n",
    "plt.xlabel(\"Iterations\")\n",
    "plt.ylabel(\"Error for all training instances\")\n",
    "plt.savefig(\"cumulative_error.png\")"
   ]
  },
  {
   "cell_type": "markdown",
   "id": "713dc25e",
   "metadata": {},
   "source": [
    "<h4> Let's see how the model performs when it comes to a new data point </h4>"
   ]
  },
  {
   "cell_type": "code",
   "execution_count": 5,
   "id": "01f484a8",
   "metadata": {},
   "outputs": [
    {
     "name": "stdout",
     "output_type": "stream",
     "text": [
      "0.08977982478377645 [1]\n"
     ]
    },
    {
     "data": {
      "text/plain": [
       "array([0.91022018])"
      ]
     },
     "execution_count": 5,
     "metadata": {},
     "output_type": "execute_result"
    }
   ],
   "source": [
    "test_X = np.array([9, 1.0])\n",
    "test_y = np.array([1])\n",
    "pred = neural_network.predict(test_X)\n",
    "print(pred, test_y)\n",
    "abs(pred - test_y)"
   ]
  },
  {
   "cell_type": "markdown",
   "id": "798e2765",
   "metadata": {},
   "source": [
    "<h4> End! Well done on building your first neural network! </h4>"
   ]
  }
 ],
 "metadata": {
  "kernelspec": {
   "display_name": "Python 3 (ipykernel)",
   "language": "python",
   "name": "python3"
  },
  "language_info": {
   "codemirror_mode": {
    "name": "ipython",
    "version": 3
   },
   "file_extension": ".py",
   "mimetype": "text/x-python",
   "name": "python",
   "nbconvert_exporter": "python",
   "pygments_lexer": "ipython3",
   "version": "3.9.7"
  }
 },
 "nbformat": 4,
 "nbformat_minor": 5
}
