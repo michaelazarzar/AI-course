{
 "cells": [
  {
   "cell_type": "markdown",
   "id": "ab864ae3",
   "metadata": {},
   "source": [
    "# Numba Introduction\n",
    "\n",
    "## What is Numba?\n",
    "Numba is a just-in-time, type-specializing, function compiler for accelerating numerically-focused Python. That's a long list, so let's break down those terms:\n",
    "\n",
    "* __function compiler__: Numba compiles Python functions, not entire applications, and not parts of functions. Numba does not replace your Python interpreter, but is just another Python module that can turn a function into a (usually) faster function.\n",
    "* __type-specializing__: Numba speeds up your function by generating a specialized implementation for the specific data types you are using. Python functions are designed to operate on generic data types, which makes them very flexible, but also very slow. In practice, you only will call a function with a small number of argument types, so Numba will generate a fast implementation for each set of types.\n",
    "* __just-in-time__: Numba translates functions when they are first called. This ensures the compiler knows what argument types you will be using. This also allows Numba to be used interactively in a Jupyter notebook just as easily as a traditional application.\n",
    "* __numerically-focused__: Currently, Numba is focused on numerical data types, like int, float, and complex. There is very limited string processing support, and many string use cases are not going to work well on the GPU. To get best results with Numba, you will likely be using NumPy arrays."
   ]
  },
  {
   "cell_type": "markdown",
   "id": "5370ce3a",
   "metadata": {},
   "source": [
    "## Setup"
   ]
  },
  {
   "cell_type": "code",
   "execution_count": 8,
   "id": "fbf9d5b9",
   "metadata": {},
   "outputs": [
    {
     "name": "stdout",
     "output_type": "stream",
     "text": [
      "Collecting numba\n",
      "  Downloading numba-0.53.1-cp38-cp38-manylinux2014_x86_64.whl (3.4 MB)\n",
      "\u001b[K     |████████████████████████████████| 3.4 MB 23.1 MB/s eta 0:00:01\n",
      "\u001b[?25hRequirement already satisfied: setuptools in /usr/lib/python3/dist-packages (from numba) (45.2.0)\n",
      "Requirement already satisfied: numpy>=1.15 in /usr/local/lib/python3.8/dist-packages (from numba) (1.18.5)\n",
      "Collecting llvmlite<0.37,>=0.36.0rc1\n",
      "  Downloading llvmlite-0.36.0-cp38-cp38-manylinux2010_x86_64.whl (25.3 MB)\n",
      "\u001b[K     |████████████████████████████████| 25.3 MB 47.9 MB/s eta 0:00:01\n",
      "\u001b[?25hInstalling collected packages: llvmlite, numba\n",
      "Successfully installed llvmlite-0.36.0 numba-0.53.1\n",
      "\u001b[33mWARNING: Running pip as root will break packages and permissions. You should install packages reliably by using venv: https://pip.pypa.io/warnings/venv\u001b[0m\n"
     ]
    }
   ],
   "source": [
    "!pip install numba"
   ]
  },
  {
   "cell_type": "markdown",
   "id": "364ce99e",
   "metadata": {},
   "source": [
    "## Problem I - First Numba Function\n",
    "To start our exploration of Numba's features, let's write a python function to add two numbers. We'll creatively name it add:"
   ]
  },
  {
   "cell_type": "code",
   "execution_count": 17,
   "id": "e9975e27",
   "metadata": {},
   "outputs": [],
   "source": [
    "def add(a,b):\n",
    "    return a + b"
   ]
  },
  {
   "cell_type": "markdown",
   "id": "f7821f3a",
   "metadata": {},
   "source": [
    "Just by looking at this function a clear issue comes to mind, lets demonstrate:"
   ]
  },
  {
   "cell_type": "code",
   "execution_count": 18,
   "id": "f08a54e0",
   "metadata": {},
   "outputs": [
    {
     "name": "stdout",
     "output_type": "stream",
     "text": [
      "Int:  3\n",
      "Float:  3.8\n",
      "Numpy:  [4 6 8]\n",
      "Lists:  [1, 2, 2, 3]\n"
     ]
    }
   ],
   "source": [
    "import numpy as np\n",
    "\n",
    "print(\"Int: \", add(1, 2)) ## Add can sum up integers\n",
    "print(\"Float: \", add(1.5, 2.3)) ## Add can sum up floats\n",
    "print(\"Numpy: \", add(np.array([1,2,3]), np.array([3,4,5]))) ## Add can sum up numpy arrays\n",
    "\n",
    "print(\"Lists: \", add([1,2], [2,3])) ## Add can concate two python list\n"
   ]
  },
  {
   "cell_type": "markdown",
   "id": "a7bdbb8a",
   "metadata": {},
   "source": [
    "That means that python spends much time on being type agnostic, lets use numba to perform jit on add function"
   ]
  },
  {
   "cell_type": "code",
   "execution_count": 19,
   "id": "cf7262df",
   "metadata": {},
   "outputs": [],
   "source": [
    "from numba import jit\n",
    "\n",
    "numba_add = jit(add) # wrap function with jit function to generate just in time function\n",
    "\n",
    "@jit # one can also use the decorator which essentially does the same thing\n",
    "def add_test(a, b):\n",
    "    return a + b"
   ]
  },
  {
   "cell_type": "markdown",
   "id": "d8056e54",
   "metadata": {},
   "source": [
    "### Exercise \n",
    "Numba stores the old function in a class member called 'py_func', lets compare the results to see it fits"
   ]
  },
  {
   "cell_type": "markdown",
   "id": "119c0e4c",
   "metadata": {},
   "source": [
    "### Performance Test\n",
    "%timeit is running our function many times, and then reporting the average time it takes to run. This is generally a better approach than timing a single function execution, because it accounts for random events that may cause any given run to perform poorly.\n",
    "\n",
    "Lets time the original function:"
   ]
  },
  {
   "cell_type": "code",
   "execution_count": 30,
   "id": "f0699b13",
   "metadata": {},
   "outputs": [
    {
     "name": "stdout",
     "output_type": "stream",
     "text": [
      "89.8 ns ± 0.0875 ns per loop (mean ± std. dev. of 7 runs, 10000000 loops each)\n"
     ]
    }
   ],
   "source": [
    "%timeit add(1,2)"
   ]
  },
  {
   "cell_type": "markdown",
   "id": "afb3c10f",
   "metadata": {},
   "source": [
    "Time the jit function:"
   ]
  },
  {
   "cell_type": "code",
   "execution_count": 29,
   "id": "d5e7ac7f",
   "metadata": {},
   "outputs": [
    {
     "name": "stdout",
     "output_type": "stream",
     "text": [
      "231 ns ± 0.178 ns per loop (mean ± std. dev. of 7 runs, 1000000 loops each)\n"
     ]
    }
   ],
   "source": [
    "%timeit numba_add(1,2)"
   ]
  },
  {
   "cell_type": "markdown",
   "id": "4ee0e28f",
   "metadata": {},
   "source": [
    "Hold on - our new pre-compiled function is running even slower than the original python version! What's going on here?\n",
    "Numba isn't going to speed up everything. Generally, Numba will help you most in circumstances where python's line-by-line interperability and lack of type casting is slowing it down."
   ]
  },
  {
   "cell_type": "markdown",
   "id": "14d2caba",
   "metadata": {},
   "source": [
    "Lets do more complicated function to demonstrate the difference:"
   ]
  },
  {
   "cell_type": "code",
   "execution_count": 34,
   "id": "2a13ea8f",
   "metadata": {},
   "outputs": [],
   "source": [
    "import math\n",
    "\n",
    "def hypotenuse(x, y):\n",
    "  x = abs(x);\n",
    "  y = abs(y);\n",
    "  t = min(x, y);\n",
    "  x = max(x, y);\n",
    "  t = t / x;\n",
    "  return x * math.sqrt(1+t*t)"
   ]
  },
  {
   "cell_type": "markdown",
   "id": "9dd7ef6c",
   "metadata": {},
   "source": [
    "### Exercise\n",
    "Convert the function hypotenuse to numba function and compare timing with original function"
   ]
  },
  {
   "cell_type": "markdown",
   "id": "02b49c01",
   "metadata": {},
   "source": [
    "Numba functions can call other functions, provided they are also Numba functions.\n",
    "\n",
    "**No Python mode vs Object mode** - \n",
    "A common pattern is to decorate functions with @jit as this is the most flexible decorator offered by Numba. @jit essentially encompasses two modes of compilation, first it will try and compile the decorated function in no Python mode, if this fails it will try again to compile the function using object mode. Whilst the use of looplifting in object mode can enable some performance increase, getting functions to compile under no python mode is really the key to good performance. To make it such that only no python mode is used and if compilation fails an exception is raised the decorators @njit and @jit(nopython=True) can be used (the first is an alias of the second for convenience).\n",
    "\n",
    "> **Note**: The behaviour of the nopython compilation mode is to essentially compile the decorated function so that it will run entirely without the involvement of the Python interpreter. This is the recommended and best-practice way to use the Numba jit decorator as it leads to the best performance.\n",
    "\n",
    "Numba, compiles each function based on the types of its arguments, and infers the type of the result. You can see this if you run the inspect_types function on a numba function:"
   ]
  },
  {
   "cell_type": "code",
   "execution_count": 38,
   "id": "d98a25c2",
   "metadata": {},
   "outputs": [
    {
     "name": "stdout",
     "output_type": "stream",
     "text": [
      "add (int64, int64)\n",
      "--------------------------------------------------------------------------------\n",
      "# File: <ipython-input-17-494b6d29bcde>\n",
      "# --- LINE 1 --- \n",
      "\n",
      "def add(a,b):\n",
      "\n",
      "    # --- LINE 2 --- \n",
      "    # label 0\n",
      "    #   a = arg(0, name=a)  :: int64\n",
      "    #   b = arg(1, name=b)  :: int64\n",
      "    #   $6binary_add.2 = a + b  :: int64\n",
      "    #   del b\n",
      "    #   del a\n",
      "    #   $8return_value.3 = cast(value=$6binary_add.2)  :: int64\n",
      "    #   del $6binary_add.2\n",
      "    #   return $8return_value.3\n",
      "\n",
      "    return a + b\n",
      "\n",
      "\n",
      "================================================================================\n",
      "add (array(int64, 1d, C), array(int64, 1d, C))\n",
      "--------------------------------------------------------------------------------\n",
      "# File: <ipython-input-17-494b6d29bcde>\n",
      "# --- LINE 1 --- \n",
      "\n",
      "def add(a,b):\n",
      "\n",
      "    # --- LINE 2 --- \n",
      "    # label 0\n",
      "    #   a = arg(0, name=a)  :: array(int64, 1d, C)\n",
      "    #   b = arg(1, name=b)  :: array(int64, 1d, C)\n",
      "    #   $6binary_add.2 = a + b  :: array(int64, 1d, C)\n",
      "    #   del b\n",
      "    #   del a\n",
      "    #   $8return_value.3 = cast(value=$6binary_add.2)  :: array(int64, 1d, C)\n",
      "    #   del $6binary_add.2\n",
      "    #   return $8return_value.3\n",
      "\n",
      "    return a + b\n",
      "\n",
      "\n",
      "================================================================================\n"
     ]
    }
   ],
   "source": [
    "numba_add.inspect_types()"
   ]
  },
  {
   "cell_type": "markdown",
   "id": "15d9290a",
   "metadata": {},
   "source": [
    "So far we have been using what Numba refers to as \"lazy\" (or \"call-time\") decoration. Basically, we've been letting Numba do the work of figuring out how we're using the function and inferring the types for us. Alternatively, if we know how we are going to use a given function, we can use \"eager\" (or \"compile-time\") decoration. To do this, we make use of the vectorize decorator. For example, if we want to make an integer-only version of our addition function, we could write:"
   ]
  },
  {
   "cell_type": "code",
   "execution_count": 40,
   "id": "535797df",
   "metadata": {},
   "outputs": [],
   "source": [
    "from numba import vectorize\n",
    "\n",
    "@vectorize(['int64(int64, int64)'], target='cpu')\n",
    "def add_ufunc(x, y):\n",
    "  return x + y"
   ]
  },
  {
   "cell_type": "markdown",
   "id": "15f96562",
   "metadata": {},
   "source": [
    "You'll notice a couple of new things here. In the first set of brackets, we have specified both the argument types of the function (those are inside the parentheses), as well as the return type of the function. This is just making explicit what Numba was previously inferring on our behalf. In second set of brackets you'll see that we have specified a 'target' architechture for the function. The default is cpu, which means that Numba is optimizing the function to your specific machine. Other options include parallel, which allows you to take advantage of multicore processors, and cuda\n",
    "\n",
    "> **Note**: the 'u' prefix in add_ufunc numpy means universal functions, a universal function (or ufunc for short) is a function that operates on ndarrays in an element-by-element fashion, supporting array broadcasting, type casting, and several other standard features. That is, a ufunc is a “vectorized” wrapper for a function that takes a fixed number of specific inputs and produces a fixed number of specific outputs.\n",
    "\n",
    "### Exercise\n",
    "Run our add_ufunc with cpu and parallel mode and time the difference"
   ]
  },
  {
   "cell_type": "markdown",
   "id": "771aa699",
   "metadata": {},
   "source": [
    "## GPU interaction with Numba\n",
    "\n",
    "As mentioned before numba can interact with Nvidia GPU (cuda) and even write fully functional kernels in python API only.\n",
    "\n",
    "### Problem II - Vector addition running on GPU\n",
    "Lets run the previous ufunction that we ran before with 'cuda' as a target:"
   ]
  },
  {
   "cell_type": "code",
   "execution_count": 42,
   "id": "5a23f97a",
   "metadata": {},
   "outputs": [
    {
     "data": {
      "text/plain": [
       "array([ 0,  3,  6,  9, 12, 15, 18, 21, 24, 27])"
      ]
     },
     "execution_count": 42,
     "metadata": {},
     "output_type": "execute_result"
    }
   ],
   "source": [
    "@vectorize(['int64(int64, int64)'], target='cuda')\n",
    "def add_ufunc(x, y):\n",
    "    return x + y\n",
    "\n",
    "x = np.arange(10)\n",
    "y = 2 * x\n",
    "\n",
    "add_ufunc(x, y)"
   ]
  },
  {
   "cell_type": "markdown",
   "id": "675ed7e9",
   "metadata": {},
   "source": [
    "\n",
    "What actually just happened?\n",
    "\n",
    "* Numba compiled a CUDA kernel to execute the ufunc operation in parallel over all the input elements.\n",
    "* It allocated GPU memory for the inputs and the output.\n",
    "* It also copied the input data to the GPU.\n",
    "* Numba executed the CUDA kernel with the correct kernel dimensions given the input sizes.\n",
    "* Copied the result back from the GPU to the CPU.\n",
    "* Returned the result as a NumPy array on the host.\n",
    "\n",
    "### Exercise\n",
    "Compare the cuda based function to the CPU based function, measure the execution time difference\n",
    "\n",
    "**Why is the GPU function slower?** \n",
    "\n",
    "* Our inputs are too small: the GPU achieves performance through parallelism, operating on thousands of values at once. Our test inputs have only 10 integers. We need a much larger array to even keep the GPU busy.\n",
    "* Our calculation is too simple: Sending a calculation to the GPU involves quite a bit of overhead compared to calling a function on the CPU. If our calculation does not involve enough math operations (\"arithmetic intensity\"), then the GPU will spend most of its time waiting for data to move around.\n",
    "* We copy the data to and from the GPU: While including the copy time can be realistic for a single function, often we want to run several GPU operations in sequence. In those cases, it makes sense to send data to the GPU and keep it there until all of our processing is complete.\n",
    "* Our data types are larger than necessary: Our example uses int64 when we probably don't need it. Scalar code using data types that are 32 and 64-bit run basically the same speed on the CPU, but 64-bit data types have a significant performance cost on the GPU. Basic arithmetic on 64-bit floats can be anywhere from 2x (Pascal-architecture Tesla) to 24x (Maxwell-architecture GeForce) slower than 32-bit floats. NumPy defaults to 64-bit data types when creating arrays, so it is important to set the dtype attribute or use the ndarray.astype() method to pick 32-bit types when you need them."
   ]
  },
  {
   "cell_type": "markdown",
   "id": "b25137ff",
   "metadata": {},
   "source": [
    "As we saw in the last problem, Numba can automatically handle transferring data to and from the GPU for us. However, that's not always what we want. Sometimes we will want to perform several functions in a row on the GPU without transferring the data back to the CPU in between.\n",
    "\n",
    "Lets take the previous function and change the data type to float32, so it will execute efficiently on our GPU:"
   ]
  },
  {
   "cell_type": "code",
   "execution_count": 47,
   "id": "1bc3596f",
   "metadata": {},
   "outputs": [],
   "source": [
    "@vectorize(['float32(float32, float32)'], target='cuda') # add code here\n",
    "def add_ufunc(x, y):\n",
    "    return x + y"
   ]
  },
  {
   "cell_type": "markdown",
   "id": "66fe0f75",
   "metadata": {},
   "source": [
    "As we saw in the last problem, copying the data to and from the GPU for every function is not necessarily the most efficient way to use the GPU. To address this, Numba provides the to_device function in the cuda module to allocate and copy arrays to the GPU"
   ]
  },
  {
   "cell_type": "code",
   "execution_count": 49,
   "id": "465661df",
   "metadata": {},
   "outputs": [
    {
     "name": "stdout",
     "output_type": "stream",
     "text": [
      "<numba.cuda.cudadrv.devicearray.DeviceNDArray object at 0x7f89afb16250>\n",
      "(100000,)\n",
      "float32\n"
     ]
    }
   ],
   "source": [
    "from numba import cuda\n",
    "\n",
    "n = 100000\n",
    "x = np.arange(n).astype(np.float32)\n",
    "y = 2 * x\n",
    "\n",
    "x_device = cuda.to_device(x)\n",
    "y_device = cuda.to_device(y)\n",
    "\n",
    "print(x_device)\n",
    "print(x_device.shape)\n",
    "print(x_device.dtype)"
   ]
  },
  {
   "cell_type": "markdown",
   "id": "a2339186",
   "metadata": {},
   "source": [
    "x_device and y_device are now Numba \"device arrays\" that are in many ways equivalent to Numpy ndarrays except that they live in the GPU's global memory, rather than on the CPU. These device arrays can be passed to Numba cuda functions just the way Numpy arrays can, but without the memory copying overhead.\n",
    "\n",
    "### Exercise\n",
    "Try running the cuda kernel using the host memory and device memory, time the difference"
   ]
  },
  {
   "cell_type": "markdown",
   "id": "ff7a7347",
   "metadata": {},
   "source": [
    "You should see a big performance improvement already, but we are still allocating a device array for the output of the ufunc and copying it back to the host. We can create an output buffer on the GPU with the numba.cuda.device_array() function:"
   ]
  },
  {
   "cell_type": "code",
   "execution_count": 50,
   "id": "c0d9418b",
   "metadata": {},
   "outputs": [],
   "source": [
    "out_device = cuda.device_array(shape=(n,), dtype=np.float32)  # does not initialize the contents, much like np.empty()"
   ]
  },
  {
   "cell_type": "markdown",
   "id": "299aa09d",
   "metadata": {},
   "source": [
    "And then we can use a special out keyword argument to the ufunc to specify the output buffer:"
   ]
  },
  {
   "cell_type": "code",
   "execution_count": 51,
   "id": "82532d26",
   "metadata": {},
   "outputs": [
    {
     "name": "stdout",
     "output_type": "stream",
     "text": [
      "347 µs ± 378 ns per loop (mean ± std. dev. of 7 runs, 1000 loops each)\n"
     ]
    }
   ],
   "source": [
    "%timeit add_ufunc(x_device, y_device, out=out_device)"
   ]
  },
  {
   "cell_type": "markdown",
   "id": "cc691352",
   "metadata": {},
   "source": [
    "That way we can sepperate the GPU operation from the memory operations and manage it more efficiently\n",
    "\n",
    "### Exercise\n",
    "Remake a new version of the addition ufunc with 32bit floats that targets the cpu. Compare the resulting time to execute with the gpu version you just timed."
   ]
  },
  {
   "cell_type": "code",
   "execution_count": null,
   "id": "553ec0c3",
   "metadata": {},
   "outputs": [],
   "source": []
  }
 ],
 "metadata": {
  "kernelspec": {
   "display_name": "Python 3",
   "language": "python",
   "name": "python3"
  },
  "language_info": {
   "codemirror_mode": {
    "name": "ipython",
    "version": 3
   },
   "file_extension": ".py",
   "mimetype": "text/x-python",
   "name": "python",
   "nbconvert_exporter": "python",
   "pygments_lexer": "ipython3",
   "version": "3.8.5"
  }
 },
 "nbformat": 4,
 "nbformat_minor": 5
}
